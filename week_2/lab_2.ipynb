{
 "cells": [
  {
   "cell_type": "code",
   "execution_count": 1,
   "metadata": {},
   "outputs": [],
   "source": [
    "from time import time\n",
    "\n",
    "class Node:\n",
    "    \n",
    "    def __init__(self, puzzle):\n",
    "        #list to store child nodes\n",
    "        self.children = []\n",
    "        #Variable, to store parent node (note: the root nodes parent is \"None\")\n",
    "        self.parent = None\n",
    "        # Current nodes puzzle state, set from the input parameter\n",
    "        self.puzzle = puzzle\n",
    "        # Index of zero tile in current puzzle (set in a future function)\n",
    "        self.zero = 0\n",
    "        \n",
    "def create_child(self, puzzle):\n",
    "    # Create a child node object using the input puzzle \n",
    "    child = Node(puzzle)\n",
    "    # Store the current node as the parent of the child node\n",
    "    child.parent = self\n",
    "        \n",
    "def move_right(self):\n",
    "    #check that the zero tile is not in the right column\n",
    "    if(self.zero + 1) % 3 != 0:\n",
    "        #Create a copy of the current nodes puzzle to store the child's modified version \n",
    "        puzzle_copy = self.puzzle[:]\n",
    "        # Swap the position of the zero tile and the tile to its right\n",
    "        puzzle_copy[self.zero], puzzle_copy[self.zero + 1] = puzzle_copy[self.zero + 1], puzzle_copy[self.zero]\n",
    "        #Create a child node using the newly modified puzzle\n",
    "        self.create_child(puzzle_copy)\n",
    "\n",
    "def move_left(self):\n",
    "    #check that the zero-tile is not in the left column\n",
    "    if self.zero % 3 != 0:\n",
    "        #create a copy of the current nodes puzzle to store the child's modified version\n",
    "        puzzle_copy = self.puzzle[:]\n",
    "        #swap the position of the zero tie and the tile to its left\n",
    "        puzzle_copy[self.zero], puzzle_copy[self.zero - 1] = puzzle_copy[self.zero -1], puzzle_copy[self.zero]\n",
    "        #create a child node using the newly modified puzzle \n",
    "        self.create_child(puzzle_copy)\n",
    "        \n",
    "def move_up(self):\n",
    "    #check that the zero-tile is not in the top row \n",
    "    if self.zero > 2:\n",
    "        #create a copy of the current nodes puzzle to store the child's modified version\n",
    "        puzzle_copy = self.puzzle[:]\n",
    "        #swap the position of the zero tile and the tile above it\n",
    "        puzzle_copy[self.zero],puzzle_copy[self.zero - 3] = puzzle_copy[self.zero - 3], puzzle_copy[self.zero]\n",
    "        #create a child node using the newly modified puzzle\n",
    "        self.create_child(puzzle_copy)\n",
    "        \n",
    "def move_down(self):\n",
    "    #check that the zero-tile is not the bottom row\n",
    "    if self.zero < 6:\n",
    "        #create a copy of the current nodes puzzle to store the child's modified version\n",
    "        puzzle_copy = self.puzzle[:]\n",
    "        #swap the position of the zero tile and the tile below it \n",
    "        puzzle_copy[self.zero],puzzle_copy[self.zero + 3] = puzzle_copy[self.zero + 3], puzzle_copy[self.zero]\n",
    "        #create a child node using the newly modified puzzle\n",
    "        self.create_child(puzzle_copy)\n",
    "        \n",
    "    \n",
    "        "
   ]
  },
  {
   "cell_type": "markdown",
   "metadata": {},
   "source": [
    "## Checking the goal node\n",
    "\n",
    "    "
   ]
  },
  {
   "cell_type": "code",
   "execution_count": 2,
   "metadata": {},
   "outputs": [],
   "source": [
    "def goal_test(self):\n",
    "    #loop over length of puzzle\n",
    "    for i in range(len(self.puzzle)):\n",
    "        if i != self.puzzle[i]:\n",
    "            # if every tile of the puzzle is not correct, return false\n",
    "            return False\n",
    "        #if Every tile of the puzzle is correct, return true\n",
    "        return True\n",
    "    "
   ]
  },
  {
   "cell_type": "markdown",
   "metadata": {},
   "source": [
    "## Expanding Nodes"
   ]
  },
  {
   "cell_type": "code",
   "execution_count": 4,
   "metadata": {},
   "outputs": [],
   "source": [
    "def expand_node(self):\n",
    "    #loop over the current puzzle and find the index of the zero-tile\n",
    "    for i in range(len(self.puzzle)):\n",
    "        if self.puzzle[i] == 0:\n",
    "            self.zero = i\n",
    "        self.move_right()\n",
    "        self.move_left()\n",
    "        self.move_up()\n",
    "        self.move_down()\n",
    "        "
   ]
  },
  {
   "cell_type": "markdown",
   "metadata": {},
   "source": [
    "## Printing Results"
   ]
  },
  {
   "cell_type": "code",
   "execution_count": null,
   "metadata": {},
   "outputs": [],
   "source": [
    "def print_puzzle(self):\n",
    "    print()\n",
    "    m = 0\n",
    "    for i in range(3):\n",
    "        for j in range(3):\n",
    "            print(self.puzzle[m], end = \" \")\n",
    "            m += 1\n",
    "        print()"
   ]
  }
 ],
 "metadata": {
  "kernelspec": {
   "display_name": "Python 3",
   "language": "python",
   "name": "python3"
  },
  "language_info": {
   "codemirror_mode": {
    "name": "ipython",
    "version": 3
   },
   "file_extension": ".py",
   "mimetype": "text/x-python",
   "name": "python",
   "nbconvert_exporter": "python",
   "pygments_lexer": "ipython3",
   "version": "3.7.7"
  }
 },
 "nbformat": 4,
 "nbformat_minor": 4
}
